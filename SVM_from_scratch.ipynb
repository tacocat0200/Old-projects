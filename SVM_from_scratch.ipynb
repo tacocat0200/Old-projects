{
  "nbformat": 4,
  "nbformat_minor": 0,
  "metadata": {
    "colab": {
      "name": "SVM_from_scratch.ipynb",
      "provenance": [],
      "collapsed_sections": [],
      "authorship_tag": "ABX9TyP2k50gECatBYr+L80MEVdr",
      "include_colab_link": true
    },
    "kernelspec": {
      "name": "python3",
      "display_name": "Python 3"
    },
    "language_info": {
      "name": "python"
    }
  },
  "cells": [
    {
      "cell_type": "markdown",
      "metadata": {
        "id": "view-in-github",
        "colab_type": "text"
      },
      "source": [
        "<a href=\"https://colab.research.google.com/github/tacocat0200/Relevant-projects/blob/main/SVM_from_scratch.ipynb\" target=\"_parent\"><img src=\"https://colab.research.google.com/assets/colab-badge.svg\" alt=\"Open In Colab\"/></a>"
      ]
    },
    {
      "cell_type": "code",
      "execution_count": null,
      "metadata": {
        "id": "WtX_f1Q6CY0n"
      },
      "outputs": [],
      "source": [
        "import numpy as np"
      ]
    },
    {
      "cell_type": "code",
      "source": [
        "class SVM:\n",
        "    def __init__(self, learning_rate = 0.001, lambda_param = 0.01, n_iters = 1000):\n",
        "        self.lr = learning_rate\n",
        "        self.lambda_param = lambda_param\n",
        "        self.n_iters = n_iters\n",
        "    #will come up with these later    \n",
        "        self.w = None\n",
        "        self.b  = None\n",
        "\n",
        "    #fit training samples and labels into this function\n",
        "    def fit(self, X, y):\n",
        "      n_samples, n_features = X.shape #input X is numpy array: rows = no.of samples\n",
        "      #columns = no. of features\n",
        "      y_ = np.where(y <= 0, -1, 1)\n",
        "      \n",
        "      self.w = np.zeros(n_features)\n",
        "      self.b = 0\n",
        "      \n",
        "      #Start with gradient descent\n",
        "      for _ in range(self.n_iters):\n",
        "        #iterate over training sample\n",
        "        for idx, x_i in enumerate(X):\n",
        "          #gives us both the current index and current sample\n",
        "          condition = y_[idx] * (np.dot(x_i, self.w) - self.b) >= 1\n",
        "          if condition:\n",
        "            self.w-= self.lr * (2*self.lambda_param*self.w)\n",
        "          else:\n",
        "            self.w -= self.lr * (2*self.lambda_param*self.w - np.dot(y_[idx], x_i))\n",
        "            self.b -= self.lr * y_[idx]\n",
        "\n",
        "\n",
        "\n",
        "    def predict(self, X):\n",
        "      #coding w*x - b = hyperplane\n",
        "      approx = np.dot(X, self.w) - (self.b)\n",
        "      return np.sign(approx)\n",
        "\n"
      ],
      "metadata": {
        "id": "dX1TjlwSCiV_"
      },
      "execution_count": null,
      "outputs": []
    },
    {
      "cell_type": "markdown",
      "source": [
        "# Testing"
      ],
      "metadata": {
        "id": "EOttTjNvSCmR"
      }
    },
    {
      "cell_type": "code",
      "source": [
        "if __name__ == \"__main__\":\n",
        "\n",
        "  from sklearn import datasets\n",
        "  import matplotlib.pyplot as plt\n",
        "\n",
        "  X, y = datasets.make_blobs(n_samples=50, n_features=2 , centers=2,\n",
        "    cluster_std=1.05, random_state=40)\n",
        "  y = np.where(y == 0, -1, 1) #in our case the 2 categories are -1,1 but in most labels it is 0,1 so we convert the y=0 to y=-1 \n",
        "  #for our internal calculations\n",
        "\n",
        "  clf = SVM()\n",
        "  clf.fit(X, y)\n",
        "\n",
        "  print(clf.w, clf.b) #we called the fit function to initialise w, b and use GD to optimise them\n",
        "\n",
        "  def visualize_svm():\n",
        "      def get_hyperplane_value(x, w, b, offset):\n",
        "            return (-w[0] * x + b + offset) / w[1]  #when to take w[0] and when w[1]\n",
        "\n",
        "      fig = plt.figure()\n",
        "      ax = fig.add_subplot(1, 1, 1) #add axes to add in the hyperplanes, the points will be plotted even without this (specified in the line below)\n",
        "      plt.scatter(X[:, 0], X[:, 1], marker = \"1\", c = y) #plots the points themselves - how are 23 features plottes in 2D\n",
        "\n",
        "      x0_min = np.amin(X[:, 0]) #returns the min value in the first feature column to specify lowermost boundary value for class = 1\n",
        "      x0_max = np.amax(X[:, 0]) #returns the max value in the first feature column to specify uppermost boundary value for class = -1\n",
        "\n",
        "      x1_1 = get_hyperplane_value(x0_min, clf.w, clf.b, 0) #don't understand these 6 calculations\n",
        "      x1_2 = get_hyperplane_value(x0_max, clf.w, clf.b, 0)\n",
        "\n",
        "      x1_1_m = get_hyperplane_value(x0_min, clf.w, clf.b, -1)\n",
        "      x1_2_m = get_hyperplane_value(x0_max, clf.w, clf.b, -1)\n",
        "\n",
        "      x1_1_p = get_hyperplane_value(x0_min, clf.w, clf.b, 1)\n",
        "      x1_2_p = get_hyperplane_value(x0_max, clf.w, clf.b, 1)\n",
        "\n",
        "      ax.plot([x0_min, x0_max], [x1_1, x1_2], \"y--\") # y-- draws a broken line in yellow\n",
        "      ax.plot([x0_min, x0_max], [x1_1_m, x1_2_m], \"k\") # k draw unbroken line in purpe(?)\n",
        "      ax.plot([x0_min, x0_max], [x1_1_p, x1_2_p], \"k\") \n",
        "\n",
        "      x1_min = np.amin(X[:, 1])\n",
        "      x1_max = np.amax(X[:, 1])\n",
        "      ax.set_ylim([x1_min - 3, x1_max + 3]) #sets limit on how much y-axis covers - no need to do so for X-axis cuz all points must be plotted\n",
        "      #X-axis is the first feature \"0th\" column, Y-axis is the 2nd feature \"1st\" column - would it have been different for >2 features and how? - is this why\n",
        "      #my 23 feature plotting is weird AF- the purple lines not on the boundary points but instead somewhere weird?\n",
        "\n",
        "      plt.show()\n",
        "  visualize_svm() #function-call statement\n",
        "\n",
        "\n",
        "  #so no matter how many features you have, the matrix "
      ],
      "metadata": {
        "colab": {
          "base_uri": "https://localhost:8080/",
          "height": 282
        },
        "id": "0GV52G-XSP_t",
        "outputId": "97caa620-01fd-47fd-8712-58773aeee9da"
      },
      "execution_count": null,
      "outputs": [
        {
          "output_type": "stream",
          "name": "stdout",
          "text": [
            "[0.58977016 0.17946483] -0.1520000000000001\n"
          ]
        },
        {
          "output_type": "display_data",
          "data": {
            "image/png": "[encoded data removed]",
            "text/plain": [
              "<Figure size 432x288 with 1 Axes>"
            ]
          },
          "metadata": {
            "needs_background": "light"
          }
        }
      ]
    },
    {
      "cell_type": "code",
      "source": [
        " "
      ],
      "metadata": {
        "id": "Y6BKMek9Xb1W"
      },
      "execution_count": null,
      "outputs": []
    }
  ]
}