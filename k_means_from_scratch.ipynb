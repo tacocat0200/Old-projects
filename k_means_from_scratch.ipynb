{
  "nbformat": 4,
  "nbformat_minor": 0,
  "metadata": {
    "colab": {
      "name": "k-means from scratch.ipynb",
      "provenance": [],
      "collapsed_sections": [],
      "authorship_tag": "ABX9TyNPCyiBZgI1zXOb2DWGNaxA",
      "include_colab_link": true
    },
    "kernelspec": {
      "name": "python3",
      "display_name": "Python 3"
    },
    "language_info": {
      "name": "python"
    }
  },
  "cells": [
    {
      "cell_type": "markdown",
      "metadata": {
        "id": "view-in-github",
        "colab_type": "text"
      },
      "source": [
        "<a href=\"https://colab.research.google.com/github/tacocat0200/Relevant-projects/blob/main/k_means_from_scratch.ipynb\" target=\"_parent\"><img src=\"https://colab.research.google.com/assets/colab-badge.svg\" alt=\"Open In Colab\"/></a>"
      ]
    },
    {
      "cell_type": "code",
      "execution_count": null,
      "metadata": {
        "id": "UEmJ3inf2nxN"
      },
      "outputs": [],
      "source": [
        "import matplotlib.pyplot as plt\n",
        "import numpy as np"
      ]
    },
    {
      "cell_type": "code",
      "source": [
        "np.random.seed(42)"
      ],
      "metadata": {
        "id": "dxpQ3GWmAD-K"
      },
      "execution_count": null,
      "outputs": []
    },
    {
      "cell_type": "code",
      "source": [
        "from numpy.core.fromnumeric import clip\n",
        "def euclidean_distance(x1, x2):\n",
        "  return np.sqrt(np.sum((x1 - x2) ** 2))\n",
        "\n",
        "\n",
        "class KMeans:\n",
        "  def __init__(self, K = 5, max_iters = 100, plot_steps = False):\n",
        "    self.K = K\n",
        "    self.max_iters = max_iters\n",
        "    self.plot_steps = plot_steps\n",
        "\n",
        "    # list of sample indices for each cluster\n",
        "    self.clusters = [[] for _ in range(self.K)]\n",
        "    # the centers (mean feature vector) for each cluster\n",
        "    self.centroids = []\n",
        "\n",
        "  def predict(self, X):\n",
        "    self.X = X\n",
        "    self.n_samples, self.n_features = X.shape\n",
        "\n",
        "    # Initialize\n",
        "    random_sample_idxs = np.random.choice(self.n_samples, self.K, replace = False)\n",
        "    self.centroids = [self.X[idx] for idx in random_sample_idxs]\n",
        "\n",
        "    # Optimize clusters\n",
        "    for _ in range(self.max_iters):\n",
        "      #Assign samples to closest centroids (create clusters)\n",
        "      self.clusters = self._create_clusters(self.centroids)\n",
        "\n",
        "      if self.plot_steps:\n",
        "        self.plot()\n",
        "\n",
        "      # Calculate new centroids from the clusters\n",
        "      centroids_old = self.centroids\n",
        "      self.centroids = self._get_centroids(self.clusters)\n",
        "\n",
        "      # check of clusters have changed\n",
        "      if self._is_converged(centroids_old, self.centroids):\n",
        "        break\n",
        "\n",
        "      if self.plot_steps:\n",
        "        self.plot()\n",
        "    return self._get_cluster_labels(self.clusters)\n",
        "  \n",
        "  def _get_cluster_labels(self, clusters):\n",
        "    # each sample will get the label of the cluster it was assigned to\n",
        "    labels = np.empty(self.n_samples)\n",
        "\n",
        "    for cluster_idx, cluster in enumerate(clusters):\n",
        "      for sample_index in cluster:\n",
        "        labels[sample_index] = cluster_idx\n",
        "      return labels\n",
        "\n",
        "    def _create_clusters(self, centroids):\n",
        "      #Assign the samples to the closest centroids to create clusters\n",
        "      clusters = [[] for _ in range(self.K)]\n",
        "      for idx, sample in enumerate(self.X):\n",
        "        centroid_idx = self.closest_centroid(sample, centroids)\n",
        "        clusters[centroid_idx].append(idx)\n",
        "      return clip\n",
        "\n",
        "    def _closest_centroid(self, sample, centroids):\n",
        "      # distance of the current sample to each centroid\n",
        "      distances = [euclidean_distances(sample, point) for point in centroids]\n",
        "      closest_index = np.argmin(distances)\n",
        "      return closest_index\n",
        "\n",
        "    def _get_centroids(self, clusters):\n",
        "      # assign mean value of clusters to centroids\n",
        "      centroids = np.zeros((self.K, self.n_features))\n",
        "      for cluster_idx, cluster in enumerate(clusters):\n",
        "        cluster_mean = np.mean(self.X[cluster], axis =0)\n",
        "        centroids[cluster_idx] = cluster_mean\n",
        "      return centroids\n",
        "\n",
        "    def _is_converged(self, centroids_old, centroids):  \n",
        "      # distances between each old and new centroids, for all centroids\n",
        "      distances = [ euclidean_distances(centroids_old[i], centroids[i]) for i in range(self.K)]\n",
        "      return sum(distances) == 0\n",
        "\n",
        "    def plot(self):\n",
        "      fig, ax = plt.subplots(figsize = (12, 8))\n",
        "\n",
        "      for i, index in enumerate(self.clusters):\n",
        "        point = self.X[index].T\n",
        "        ax.scatter(*point)\n",
        "\n",
        "      for point in self.centroids:\n",
        "        ax.scatter(*point, marker = \"x\", color = \"black\", linewidth = 2)\n",
        "      \n",
        "      plt.show()"
      ],
      "metadata": {
        "id": "cajko1FbAH3e"
      },
      "execution_count": 4,
      "outputs": []
    },
    {
      "cell_type": "markdown",
      "source": [
        "#Testing"
      ],
      "metadata": {
        "id": "LFlPxWmnLQyF"
      }
    },
    {
      "cell_type": "code",
      "source": [
        "if __name__ == \"__main__\":\n",
        "  from  sklearn.datasets import make_blobs\n",
        "\n",
        "  X, y = make_blobs(centers = 3, n_samples = 500, n_features = 2,\n",
        "                    shuffle = True, random_state = 40)\n",
        "  \n",
        "  print(X.shape)\n",
        "\n",
        "\n",
        "  clusters = len(np.unique(y))\n",
        "  print(clusters)\n",
        "\n",
        "  k = KMeans(K = clusters, max_iters = 150, plot_steps = True)\n",
        "  y_pred = k.predict(X)\n",
        "\n",
        "  k.plot()\n",
        "\n"
      ],
      "metadata": {
        "colab": {
          "base_uri": "https://localhost:8080/",
          "height": 391
        },
        "id": "n9gjqASmLd_W",
        "outputId": "0176985e-2387-45bf-8f1e-be85c7ef55c2"
      },
      "execution_count": 6,
      "outputs": [
        {
          "output_type": "stream",
          "name": "stdout",
          "text": [
            "(500, 2)\n",
            "3\n"
          ]
        },
        {
          "output_type": "error",
          "ename": "AttributeError",
          "evalue": "ignored",
          "traceback": [
            "\u001b[0;31m---------------------------------------------------------------------------\u001b[0m",
            "\u001b[0;31mAttributeError\u001b[0m                            Traceback (most recent call last)",
            "\u001b[0;32m<ipython-input-6-5102d932c44a>\u001b[0m in \u001b[0;36m<module>\u001b[0;34m()\u001b[0m\n\u001b[1;32m     12\u001b[0m \u001b[0;34m\u001b[0m\u001b[0m\n\u001b[1;32m     13\u001b[0m   \u001b[0mk\u001b[0m \u001b[0;34m=\u001b[0m \u001b[0mKMeans\u001b[0m\u001b[0;34m(\u001b[0m\u001b[0mK\u001b[0m \u001b[0;34m=\u001b[0m \u001b[0mclusters\u001b[0m\u001b[0;34m,\u001b[0m \u001b[0mmax_iters\u001b[0m \u001b[0;34m=\u001b[0m \u001b[0;36m150\u001b[0m\u001b[0;34m,\u001b[0m \u001b[0mplot_steps\u001b[0m \u001b[0;34m=\u001b[0m \u001b[0;32mTrue\u001b[0m\u001b[0;34m)\u001b[0m\u001b[0;34m\u001b[0m\u001b[0;34m\u001b[0m\u001b[0m\n\u001b[0;32m---> 14\u001b[0;31m   \u001b[0my_pred\u001b[0m \u001b[0;34m=\u001b[0m \u001b[0mk\u001b[0m\u001b[0;34m.\u001b[0m\u001b[0mpredict\u001b[0m\u001b[0;34m(\u001b[0m\u001b[0mX\u001b[0m\u001b[0;34m)\u001b[0m\u001b[0;34m\u001b[0m\u001b[0;34m\u001b[0m\u001b[0m\n\u001b[0m\u001b[1;32m     15\u001b[0m \u001b[0;34m\u001b[0m\u001b[0m\n\u001b[1;32m     16\u001b[0m   \u001b[0mk\u001b[0m\u001b[0;34m.\u001b[0m\u001b[0mplot\u001b[0m\u001b[0;34m(\u001b[0m\u001b[0;34m)\u001b[0m\u001b[0;34m\u001b[0m\u001b[0;34m\u001b[0m\u001b[0m\n",
            "\u001b[0;32m<ipython-input-4-8d828e390000>\u001b[0m in \u001b[0;36mpredict\u001b[0;34m(self, X)\u001b[0m\n\u001b[1;32m     26\u001b[0m     \u001b[0;32mfor\u001b[0m \u001b[0m_\u001b[0m \u001b[0;32min\u001b[0m \u001b[0mrange\u001b[0m\u001b[0;34m(\u001b[0m\u001b[0mself\u001b[0m\u001b[0;34m.\u001b[0m\u001b[0mmax_iters\u001b[0m\u001b[0;34m)\u001b[0m\u001b[0;34m:\u001b[0m\u001b[0;34m\u001b[0m\u001b[0;34m\u001b[0m\u001b[0m\n\u001b[1;32m     27\u001b[0m       \u001b[0;31m#Assign samples to closest centroids (create clusters)\u001b[0m\u001b[0;34m\u001b[0m\u001b[0;34m\u001b[0m\u001b[0;34m\u001b[0m\u001b[0m\n\u001b[0;32m---> 28\u001b[0;31m       \u001b[0mself\u001b[0m\u001b[0;34m.\u001b[0m\u001b[0mclusters\u001b[0m \u001b[0;34m=\u001b[0m \u001b[0mself\u001b[0m\u001b[0;34m.\u001b[0m\u001b[0m_create_clusters\u001b[0m\u001b[0;34m(\u001b[0m\u001b[0mself\u001b[0m\u001b[0;34m.\u001b[0m\u001b[0mcentroids\u001b[0m\u001b[0;34m)\u001b[0m\u001b[0;34m\u001b[0m\u001b[0;34m\u001b[0m\u001b[0m\n\u001b[0m\u001b[1;32m     29\u001b[0m \u001b[0;34m\u001b[0m\u001b[0m\n\u001b[1;32m     30\u001b[0m       \u001b[0;32mif\u001b[0m \u001b[0mself\u001b[0m\u001b[0;34m.\u001b[0m\u001b[0mplot_steps\u001b[0m\u001b[0;34m:\u001b[0m\u001b[0;34m\u001b[0m\u001b[0;34m\u001b[0m\u001b[0m\n",
            "\u001b[0;31mAttributeError\u001b[0m: 'KMeans' object has no attribute '_create_clusters'"
          ]
        }
      ]
    },
    {
      "cell_type": "code",
      "source": [
        ""
      ],
      "metadata": {
        "id": "oHx9Lzb4L_ai"
      },
      "execution_count": null,
      "outputs": []
    }
  ]
}