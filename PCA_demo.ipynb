{
  "nbformat": 4,
  "nbformat_minor": 0,
  "metadata": {
    "colab": {
      "name": "PCA_demo.ipynb",
      "provenance": [],
      "collapsed_sections": [],
      "authorship_tag": "ABX9TyPS8KrxuU2UsZuEPxYe/XK5",
      "include_colab_link": true
    },
    "kernelspec": {
      "name": "python3",
      "display_name": "Python 3"
    },
    "language_info": {
      "name": "python"
    }
  },
  "cells": [
    {
      "cell_type": "markdown",
      "metadata": {
        "id": "view-in-github",
        "colab_type": "text"
      },
      "source": [
        "<a href=\"https://colab.research.google.com/github/tacocat0200/Relevant-projects/blob/main/PCA_demo.ipynb\" target=\"_parent\"><img src=\"https://colab.research.google.com/assets/colab-badge.svg\" alt=\"Open In Colab\"/></a>"
      ]
    },
    {
      "cell_type": "code",
      "execution_count": 1,
      "metadata": {
        "id": "-ekNMwynibz1"
      },
      "outputs": [],
      "source": [
        "import pandas as pd\n",
        "import numpy as np\n",
        "import random as rd\n",
        "from sklearn.decomposition import PCA\n",
        "from sklearn import preprocessing\n",
        "import matplotlib.pyplot as plt"
      ]
    },
    {
      "cell_type": "markdown",
      "source": [
        "# Data Generation\n",
        "\n",
        "* data is in a dataframe called \"data\"\n",
        "* columns are individual samples or cells\n",
        "* rows are gene measurements taken from all samples\n"
      ],
      "metadata": {
        "id": "DA76zw_BjMzg"
      }
    },
    {
      "cell_type": "code",
      "source": [
        "genes = ['gene' + str(i) for i in range(1, 101)]\n",
        "\n",
        "wt = ['wt' + str(i) for i in range(1,6)]\n",
        "ko = ['ko' + str(i) for i in range(1,6)]\n",
        "\n",
        "data = pd.DataFrame(columns = [*wt, *ko], index = genes)\n",
        "\n",
        "for gene in data.index:\n",
        "  data.loc[gene, 'wt1':'wt5'] = np.random.poisson(lam = rd.randrange(10, 1000),\n",
        "                                                  size = 5)\n",
        "  \n",
        "  data.loc[gene, 'ko1' : 'ko5'] = np.random.poisson(lam = rd.randrange(10, 1000), size = 5)\n",
        "\n",
        "\n",
        "print(data.head())\n",
        "print(data.shape)"
      ],
      "metadata": {
        "id": "dBtHDlyljv5d"
      },
      "execution_count": null,
      "outputs": []
    },
    {
      "cell_type": "markdown",
      "source": [
        "# PCA"
      ],
      "metadata": {
        "id": "glDg2F78l7qs"
      }
    },
    {
      "cell_type": "code",
      "source": [
        "#center and scale the data\n",
        "scaled_data = preprocessing.scale(data.T)"
      ],
      "metadata": {
        "id": "z_WjLRz2lEs9"
      },
      "execution_count": 3,
      "outputs": []
    },
    {
      "cell_type": "code",
      "source": [
        "#create a PCA object\n",
        "pca = PCA()\n",
        "#do the math\n",
        "pca.fit(scaled_data)\n",
        "#get PCA coordinates for scaled data\n",
        "pca_data = pca.transform(scaled_data)"
      ],
      "metadata": {
        "id": "QzzPSGG7mRaS"
      },
      "execution_count": 4,
      "outputs": []
    },
    {
      "cell_type": "code",
      "source": [
        "#draw a scree plot \n",
        "\n",
        "per_var = np.round(pca.explained_variance_ratio_* 100, decimals = 1)\n",
        "labels = ['PC' + str(x) for x in range(1, len(per_var) + 1)]\n",
        "\n",
        "plt.bar(x = range(1, len(per_var) + 1), height = per_var, tick_label = labels)\n",
        "plt.ylabel('Percentage of Explained Variance')\n",
        "plt.xlabel('Principal Component')\n",
        "plt.title('Scree Plot')\n",
        "plt.show()"
      ],
      "metadata": {
        "id": "u0LIzZxfmOo2"
      },
      "execution_count": null,
      "outputs": []
    },
    {
      "cell_type": "code",
      "source": [
        "pca_df = pd.DataFrame(pca_data, index = [*wt, *ko], columns = labels)\n",
        "\n",
        "plt.scatter(pca_df.PC1, pca_df.PC2)\n",
        "plt.title('My PCA Graph')\n",
        "plt.xlabel('PC1 - {0}%'.format(per_var[0]))\n",
        "plt.ylabel('PC2 - {0}%'.format(per_var[1]))\n",
        "\n",
        "for sample in pca_df.index:\n",
        "  plt.annotate(sample, (pca_df.PC1.loc[sample], pca_df.PC2.loc[sample]))\n",
        "\n",
        "plt.show()"
      ],
      "metadata": {
        "id": "oU8DMTZAoIIa"
      },
      "execution_count": null,
      "outputs": []
    },
    {
      "cell_type": "code",
      "source": [
        "#determine which genes had the biggest influence on PC1\n",
        "\n",
        "loading_scores = pd.Series(pca.components_[0], index = genes)\n",
        "sorted_loading_scores = loading_scores.abs().sort_values(ascending = False)\n",
        "\n",
        "top_10_genes = sorted_loading_scores[0:10].index.values\n",
        "\n",
        "print(loading_scores[top_10_genes])"
      ],
      "metadata": {
        "id": "3qVcqec_nwQ4"
      },
      "execution_count": null,
      "outputs": []
    },
    {
      "cell_type": "code",
      "source": [
        ""
      ],
      "metadata": {
        "id": "n2ZG-tjRuIVk"
      },
      "execution_count": null,
      "outputs": []
    }
  ]
}