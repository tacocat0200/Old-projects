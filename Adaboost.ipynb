{
  "nbformat": 4,
  "nbformat_minor": 0,
  "metadata": {
    "colab": {
      "name": "Adaboost.ipynb",
      "provenance": [],
      "collapsed_sections": [],
      "authorship_tag": "ABX9TyPDbg0fXR65CPo1J6orQR7D",
      "include_colab_link": true
    },
    "kernelspec": {
      "name": "python3",
      "display_name": "Python 3"
    },
    "language_info": {
      "name": "python"
    }
  },
  "cells": [
    {
      "cell_type": "markdown",
      "metadata": {
        "id": "view-in-github",
        "colab_type": "text"
      },
      "source": [
        "<a href=\"https://colab.research.google.com/github/tacocat0200/Relevant-projects/blob/main/Adaboost.ipynb\" target=\"_parent\"><img src=\"https://colab.research.google.com/assets/colab-badge.svg\" alt=\"Open In Colab\"/></a>"
      ]
    },
    {
      "cell_type": "code",
      "execution_count": 1,
      "metadata": {
        "id": "zZtmwK3xLNgq"
      },
      "outputs": [],
      "source": [
        "import numpy as np"
      ]
    },
    {
      "cell_type": "code",
      "source": [
        "#decisiom stump used as weak classifier\n",
        "\n",
        "class DecisionStump:\n",
        "  def __init__(self):\n",
        "    self.polarity = 1\n",
        "    self.feature_idx = None\n",
        "    self.threshold = None\n",
        "    self.alpha = None\n",
        "\n",
        "  def predict(self, X):\n",
        "    n_samples = X.shape[0]\n",
        "    X_column = X[:, self.feature_idx]\n",
        "    predictions = np.ones(n_samples)\n",
        "    if self.polarity == 1:\n",
        "      predictions[X_column < self.threshold] = -1\n",
        "    else:\n",
        "      predictions[X_column > self.threshold] = -1\n",
        "\n",
        "    return predictions\n",
        "\n",
        "class Adaboost:\n",
        "   def __init__(self, n_clf=5):\n",
        "     self.n_clf = n_clf\n",
        "     self.clfs = []\n",
        "\n",
        "   def fit(self, X, y):\n",
        "      n_samples, n_features = X.shape\n",
        "\n",
        "      #initialize weights to 1/N\n",
        "      w = np.full(n_samples, (1/n_samples))\n",
        "\n",
        "      self.clfs = []\n",
        "\n",
        "      #Iterate through classifiers\n",
        "      for _ in range(self.n_clf):\n",
        "        clf = DecisionStump()\n",
        "        min_error = float(\"inf\")\n",
        "\n",
        "        #greedy search to find best threshold and feature\n",
        "        for feature_i in range(n_features):\n",
        "          X_column = X[:, feature_i]\n",
        "          thresholds = np.unique (X_column)\n",
        "\n",
        "          for threshold in thresholds:\n",
        "            #predict with polarity 1\n",
        "            p = 1\n",
        "            predictions = np.ones(n_samples)\n",
        "            predictions[X_column < threshold] = -1\n",
        "\n",
        "            #Error = sum of weights of misclassified samples\n",
        "            misclassified = w[y != predictions]\n",
        "            error = sum(misclassified)\n",
        "\n",
        "            if error > 0.5:\n",
        "              error = 1 - error\n",
        "              p = -1\n",
        "\n",
        "            #store the best configuration\n",
        "            if error < min_error:\n",
        "              clf.polarity = p\n",
        "              clf.threshold = threshold\n",
        "              clf.feature_idx = feature_i\n",
        "              min_error = error\n",
        "\n",
        "        #calculate alpha\n",
        "        EPS = 1e-10\n",
        "        clf.alpha = 0.5 * np.log((1.0 - min_error + EPS) / (min_error + EPS))\n",
        "\n",
        "        #calculate predictions and update weights\n",
        "        predictions = clf.predict(X)\n",
        "\n",
        "        w *= np.exp(-clf.alpha * y * predictions)\n",
        "        #normalise to one\n",
        "        w /= np.sum(w)\n",
        "\n",
        "        #save classifier\n",
        "        self.clfs.append(clf)\n",
        "\n",
        "   def predict(self, X):\n",
        "      clf_preds = [clf.alpha * clf.predict(X) for clf in self.clfs]\n",
        "      y_pred = np.sum(clf_preds, axis = 0)\n",
        "      y_pred = np.sign(y_pred)\n",
        "\n",
        "      return y_pred       "
      ],
      "metadata": {
        "id": "-eV2Z_gAMQ4x"
      },
      "execution_count": 7,
      "outputs": []
    },
    {
      "cell_type": "markdown",
      "source": [
        "Testing"
      ],
      "metadata": {
        "id": "qd7Wgc3sduV3"
      }
    },
    {
      "cell_type": "code",
      "source": [
        "if __name__ == \"__main__\":\n",
        "  #Imports\n",
        "  from sklearn import datasets\n",
        "  from sklearn.model_selection import train_test_split\n",
        "\n",
        "  def accuracy(y_true, y_pred):\n",
        "    accuracy = np.sum(y_true == y_pred) / len(y_true)\n",
        "    return accuracy\n",
        "\n",
        "  data = datasets.load_breast_cancer()\n",
        "  X, y = data.data, data.target\n",
        "\n",
        "  y[y == 0] = -1\n",
        "\n",
        "  X_train, X_test, y_train, y_test = train_test_split(X, y, test_size = 0.2,\n",
        "                                                      random_state = 5)\n",
        "\n",
        "  #Adaboost classification with 5 weak classifiers\n",
        "  clf = Adaboost(n_clf = 5)\n",
        "  clf.fit(X_train, y_train)\n",
        "  y_pred = clf.predict(X_test)\n",
        "\n",
        "  acc = accuracy(y_test, y_pred)\n",
        "  print(\"Accuracy:\", acc) \n",
        "                                                      "
      ],
      "metadata": {
        "colab": {
          "base_uri": "https://localhost:8080/"
        },
        "id": "Of08FwG4dz37",
        "outputId": "4fec3de6-d78a-405e-fe5b-88e6ffda8137"
      },
      "execution_count": 8,
      "outputs": [
        {
          "output_type": "stream",
          "name": "stdout",
          "text": [
            "Accuracy: 0.9736842105263158\n"
          ]
        }
      ]
    },
    {
      "cell_type": "code",
      "source": [
        ""
      ],
      "metadata": {
        "id": "bF5BJHBvfVFj"
      },
      "execution_count": null,
      "outputs": []
    }
  ]
}